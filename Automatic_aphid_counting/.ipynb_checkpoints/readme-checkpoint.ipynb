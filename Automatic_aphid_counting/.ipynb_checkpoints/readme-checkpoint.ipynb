{
 "cells": [
  {
   "cell_type": "markdown",
   "id": "93e2bf9a",
   "metadata": {},
   "source": [
    "# Automatic aphid counting base on improved Yolov5  \n",
    "\n",
    "### Student Number: 25766099 \n",
    "### Name: Xumin Gao\n",
    "### "
   ]
  },
  {
   "cell_type": "code",
   "execution_count": 2,
   "id": "0630bf6f",
   "metadata": {},
   "outputs": [
    {
     "data": {
      "text/plain": [
       "'cd yolov5'"
      ]
     },
     "execution_count": 2,
     "metadata": {},
     "output_type": "execute_result"
    }
   ],
   "source": [
    "'git clone https://github.com/ultralytics/yolov5'  \n",
    "'cd yolov5'\n",
    "''"
   ]
  },
  {
   "cell_type": "markdown",
   "id": "52c6dcb5",
   "metadata": {},
   "source": [
    "\n",
    "### a) Represent the above situation with a Causal Bayesian Network (CBN) and its conditional probability tables (CPTs)\n"
   ]
  },
  {
   "cell_type": "markdown",
   "id": "ecd6d4d1",
   "metadata": {},
   "source": [
    "According to the problem statements and the causal relationship between different variables, we can build a causal Bayesian network (CBN) [1]. We know, compared with the full joint distribution and arbitrary Bayesian network, the causal Bayesian network is more efficient, which can reduce the number of probabilities values that we need to store. At the same time, according to the given dataset, we can calculate and obtain $P(Z)$,$P(X|Z)$,$P(Y|Z,X)$ as below:"
   ]
  },
  {
   "cell_type": "code",
   "execution_count": 2,
   "id": "6fc67a1d",
   "metadata": {},
   "outputs": [
    {
     "name": "stdout",
     "output_type": "stream",
     "text": [
      "P(z) =  0.728\n",
      "P(¬z) =  0.272\n",
      "P_Z = [0.272 0.728]\n"
     ]
    }
   ],
   "source": [
    "#Calculate and Save P(Z) as np.array for subsequent calculations\n",
    "\n",
    "P_z = np.sum(data[:,0] == 1) / data.shape[0] \n",
    "print ('P(z) = ',P_z)\n",
    "\n",
    "P_z_neg = 1 - P_z\n",
    "print ('P(¬z) = ',P_z_neg)\n",
    "\n",
    "P_Z = np.array([P_z_neg, P_z])\n",
    "print('P_Z =', P_Z)"
   ]
  },
  {
   "cell_type": "markdown",
   "id": "cae7214c",
   "metadata": {},
   "source": [
    "According to the Bayes Rule [2] which is the basic equation for most AI probabilistic inference systems,\n",
    "\n",
    "$${\\bf P}(X | Z) = \\frac{ {\\bf P}(X , Z)}{ {\\bf P}(Z)}$$ \n",
    "\n",
    "$${\\bf P}(Y|Z,X) = \\frac{ {\\bf P}(Y,Z,X)}{ {\\bf P}(Z,X)}$$"
   ]
  },
  {
   "cell_type": "code",
   "execution_count": 3,
   "id": "66b04d3c",
   "metadata": {},
   "outputs": [
    {
     "name": "stdout",
     "output_type": "stream",
     "text": [
      "P(X=0|¬z) =  0.09926470588235294\n",
      "P(X=0|z) =  0.1978021978021978\n",
      "\n",
      "\n",
      "P(X=1|¬z) =  0.4227941176470588\n",
      "P(X=1|z) =  0.4409340659340659\n",
      "\n",
      "\n",
      "P(X=2|¬z) =  0.47794117647058826\n",
      "P(X=2|z) =  0.36126373626373626\n",
      "\n",
      "\n"
     ]
    }
   ],
   "source": [
    "#According to the Bayesian formula above，we can calculate and obtain P(X|Z)\n",
    "\n",
    "num_z=np.sum(data[:,0] == 1) #count the number of z=1\n",
    "#print('num_z = ', num_z)\n",
    "\n",
    "num_z_neg=np.sum(data[:,0] == 0) #count the number of z=0\n",
    "#print('num_¬z = ', num_z_neg)\n",
    "#print('\\n')\n",
    "\n",
    "\n",
    "count=0\n",
    "for i in range(data.shape[0]):\n",
    "    if(data[i][0]==0 and data[i][1]==0):   #count the number of z=0 and x=0\n",
    "        count=count+1\n",
    "#print ('num(z=0,x=0)=',count)\n",
    "P0_XZ = count/num_z_neg   #calculate the probability of P(x=0|z=0)\n",
    "print('P(X=0|¬z) = ',P0_XZ)\n",
    "\n",
    "count=0\n",
    "for i in range(data.shape[0]):\n",
    "    if(data[i][0]==1 and data[i][1]==0):   #count the number of z=1 and x=0\n",
    "        count=count+1\n",
    "#print ('num(z=1,x=0)=',count)\n",
    "P1_XZ = count/num_z   #calculate the probability of P(x=0|z=1)\n",
    "print('P(X=0|z) = ',P1_XZ)\n",
    "print('\\n')\n",
    "\n",
    "\n",
    "count=0\n",
    "for i in range(data.shape[0]):\n",
    "    if(data[i][0]==0 and data[i][1]==1):   #count the number of z=0 and x=1\n",
    "        count=count+1\n",
    "#print ('num(z=0,x=1)=',count)\n",
    "P2_XZ = count/num_z_neg   #calculate the probability of P(x=1|z=0)\n",
    "print('P(X=1|¬z) = ',P2_XZ)\n",
    "\n",
    "count=0\n",
    "for i in range(data.shape[0]):\n",
    "    if(data[i][0]==1 and data[i][1]==1): #count the number of z=1 and x=1\n",
    "        count=count+1\n",
    "#print ('num(z=1,x=1)=',count)\n",
    "P3_XZ = count/num_z   #calculate the probability of P(x=1|z=1)\n",
    "print('P(X=1|z) = ',P3_XZ)\n",
    "print('\\n')\n",
    "\n",
    "\n",
    "count=0\n",
    "for i in range(data.shape[0]):\n",
    "    if(data[i][0]==0 and data[i][1]==2): #count the number of z=0 and x=2\n",
    "        count=count+1\n",
    "#print ('num(z=0,x=2)=',count)    \n",
    "P4_XZ = count/num_z_neg    #calculate the probability of P(x=2|z=0)\n",
    "print('P(X=2|¬z) = ',P4_XZ)\n",
    "\n",
    "count=0\n",
    "for i in range(data.shape[0]):\n",
    "    if(data[i][0]==1 and data[i][1]==2): #count the number of z=1 and x=2\n",
    "        count=count+1\n",
    "#print ('num(z=1,x=2)=',count)\n",
    "P5_XZ = count/num_z     #calculate the probability of P(x=2|z=1)\n",
    "print('P(X=2|z) = ',P5_XZ)\n",
    "print('\\n')\n"
   ]
  },
  {
   "cell_type": "markdown",
   "id": "afbcd87b",
   "metadata": {},
   "source": [
    "The distribution ${\\bf P}(X|Z)$:\n",
    "$$\n",
    "\\begin{align*}\n",
    "{\\bf P}(X|Z) =\n",
    "[\n",
    "[P(X=0|Z=0),P(X=0|Z=1)],\\nonumber\\\\\n",
    "[P(X=1|Z=0),P(X=1|Z=1)],\\nonumber\\\\\n",
    "[P(X=2|Z=0),P(X=2|Z=1)]\n",
    "]\n",
    "\\end{align*}\n",
    "$$"
   ]
  },
  {
   "cell_type": "code",
   "execution_count": 4,
   "id": "368d59ff",
   "metadata": {},
   "outputs": [
    {
     "name": "stdout",
     "output_type": "stream",
     "text": [
      "P(X|Z)= \n",
      " [[0.09926471 0.1978022 ]\n",
      " [0.42279412 0.44093407]\n",
      " [0.47794118 0.36126374]]\n"
     ]
    }
   ],
   "source": [
    "#Save P(X|Z) as np.array for subsequent calculations\n",
    "\n",
    "P_X_Z = np.array([[P0_XZ, P1_XZ], [P2_XZ, P3_XZ], [P4_XZ, P5_XZ]])\n",
    "print(\"P(X|Z)= \\n\",P_X_Z)"
   ]
  },
  {
   "cell_type": "code",
   "execution_count": 5,
   "id": "7c8c5500",
   "metadata": {},
   "outputs": [
    {
     "name": "stdout",
     "output_type": "stream",
     "text": [
      "P(Y=1|¬z,X=0) =  0.48148148148148145\n",
      "\n",
      "\n",
      "P(Y=1|¬z,X=1) =  0.5478260869565217\n",
      "\n",
      "\n",
      "P(Y=1|¬z,X=2) =  0.5538461538461539\n",
      "\n",
      "\n",
      "P(Y=1|z,X=0) =  0.8055555555555556\n",
      "\n",
      "\n",
      "P(Y=1|z,X=1) =  0.7570093457943925\n",
      "\n",
      "\n",
      "P(Y=1|z,X=2) =  0.908745247148289\n",
      "\n",
      "\n"
     ]
    }
   ],
   "source": [
    "#According to the Bayesian formula above，we can calculate and obtain P(Y|Z,X)\n",
    "\n",
    "count=0\n",
    "for i in range(data.shape[0]):\n",
    "    if(data[i][0]==0 and data[i][1]==0):   #count the number of z=0 and x=0 \n",
    "        count=count+1\n",
    "num_z_neg_x_zero = count\n",
    "#print('num(Z=0,X=0) = ',num_z_neg_x_zero)\n",
    "count=0\n",
    "for i in range(data.shape[0]):\n",
    "    if(data[i][0]==0 and data[i][1]==0 and data[i][2]==1):   #count the number of z=0 and x=0 and y=1\n",
    "        count=count+1\n",
    "#print ('num(Z=0,X=0,Y=1)=',count)\n",
    "P0_YZX = count/num_z_neg_x_zero     #calculate the probability of P(y=1|z=0,x=0)\n",
    "print('P(Y=1|¬z,X=0) = ',P0_YZX)\n",
    "print('\\n')\n",
    "\n",
    "count=0\n",
    "for i in range(data.shape[0]):\n",
    "    if(data[i][0]==0 and data[i][1]==1):   #count the number of z=0 and x=1 \n",
    "        count=count+1\n",
    "num_z_neg_X_one = count\n",
    "#print('num(Z=0,X=1) = ',num_z_neg_X_one)\n",
    "count=0\n",
    "for i in range(data.shape[0]):\n",
    "    if(data[i][0]==0 and data[i][1]==1 and data[i][2]==1):   #count the number of z=0 and x=1 and y=1\n",
    "        count=count+1\n",
    "#print ('num(Z=0,X=1,Y=1)=',count)\n",
    "P1_YZX = count/num_z_neg_X_one \n",
    "print('P(Y=1|¬z,X=1) = ',P1_YZX)    #calculate the probability of P(y=1|z=0,x=1)\n",
    "print('\\n')\n",
    "\n",
    "count=0\n",
    "for i in range(data.shape[0]):\n",
    "    if(data[i][0]==0 and data[i][1]==2): #count the number of z=0 and x=2 \n",
    "        count=count+1\n",
    "num_z_neg_X_two = count\n",
    "#print('num(Z=0,X=2) = ',num_z_neg_X_two)\n",
    "count=0\n",
    "for i in range(data.shape[0]):\n",
    "    if(data[i][0]==0 and data[i][1]==2 and data[i][2]==1): #count the number of z=0 and x=2 and y=1\n",
    "        count=count+1\n",
    "#print ('num(Z=0,X=2,Y=1)=',count)\n",
    "P2_YZX = count/num_z_neg_X_two     #calculate the probability of P(y=1|z=0,x=2)\n",
    "print('P(Y=1|¬z,X=2) = ',P2_YZX)\n",
    "print('\\n')\n",
    "\n",
    "count=0\n",
    "for i in range(data.shape[0]):\n",
    "    if(data[i][0]==1 and data[i][1]==0): #count the number of z=1 and x=0\n",
    "        count=count+1\n",
    "num_z_X_zero = count\n",
    "#print('num(Z=1,X=0) = ',num_z_X_zero)\n",
    "count=0\n",
    "for i in range(data.shape[0]):\n",
    "    if(data[i][0]==1 and data[i][1]==0 and data[i][2]==1): #count the number of z=1 and x=0 and y=1\n",
    "        count=count+1\n",
    "#print ('num(Z=1,X=0,Y=1)=',count)\n",
    "P3_YZX = count/num_z_X_zero     #calculate the probability of P(y=1|z=1,x=0)\n",
    "print('P(Y=1|z,X=0) = ',P3_YZX)\n",
    "print('\\n')\n",
    "\n",
    "count=0\n",
    "for i in range(data.shape[0]):\n",
    "    if(data[i][0]==1 and data[i][1]==1): #count the number of z=1 and x=1\n",
    "        count=count+1\n",
    "num_z_X_one = count\n",
    "#print('num(Z=1,X=1) = ',num_z_X_one)\n",
    "count=0\n",
    "for i in range(data.shape[0]):\n",
    "    if(data[i][0]==1 and data[i][1]==1 and data[i][2]==1): #count the number of z=1 and x=1 and y=1\n",
    "        count=count+1\n",
    "#print ('num(Z=1,X=1,Y=1)=',count)\n",
    "P4_YZX = count/num_z_X_one     #calculate the probability of P(y=1|z=1,x=1)\n",
    "print('P(Y=1|z,X=1) = ',P4_YZX)\n",
    "print('\\n')\n",
    "\n",
    "count=0\n",
    "for i in range(data.shape[0]):\n",
    "    if(data[i][0]==1 and data[i][1]==2): #count the number of z=1 and x=2\n",
    "        count=count+1\n",
    "num_z_X_two = count\n",
    "#print('num(Z=1 and X=2) = ',num_z_X_two)\n",
    "count=0\n",
    "for i in range(data.shape[0]):\n",
    "    if(data[i][0]==1 and data[i][1]==2 and data[i][2]==1): #count the number of z=1 and x=2 and y=1\n",
    "        count=count+1\n",
    "#print ('num(Z=1,X=2,Y=1)=',count)\n",
    "P5_YZX = count/num_z_X_two     #calculate the probability of P(y=1|z=1,x=2)\n",
    "print('P(Y=1|z,X=2) = ',P5_YZX)\n",
    "print('\\n')"
   ]
  },
  {
   "cell_type": "markdown",
   "id": "3c213cc6",
   "metadata": {},
   "source": [
    "The distribution ${\\bf P}(Y|Z,X)$:\n",
    "\n",
    "$$\n",
    "\\begin{align*}\n",
    "{\\bf P}(Y|Z,X) =\n",
    "[\n",
    "[[P(Y=0|Z=0,X=0),P(Y=0|Z=0,X=1),P(Y=0|Z=0,X=2)],\\nonumber\\\\\n",
    "[P(Y=0|Z=1,X=0),P(Y=0|Z=1,X=1),P(Y=0|Z=1,X=2)]],\\nonumber\\\\\n",
    "[[P(Y=1|Z=0,X=0),P(Y=1|Z=0,X=1),P(Y=1|Z=0,X=2)],\\nonumber\\\\\n",
    "[P(Y=1|Z=1,X=0),P(Y=1|Z=1,X=1),P(Y=1|Z=1,X=2)]]\n",
    "]\n",
    "\\end{align*}\n",
    "$$"
   ]
  },
  {
   "cell_type": "code",
   "execution_count": 6,
   "id": "b60e6a24",
   "metadata": {},
   "outputs": [
    {
     "name": "stdout",
     "output_type": "stream",
     "text": [
      "P(Y|Z,X)= \n",
      " [[[0.51851852 0.45217391 0.44615385]\n",
      "  [0.19444444 0.24299065 0.09125475]]\n",
      "\n",
      " [[0.48148148 0.54782609 0.55384615]\n",
      "  [0.80555556 0.75700935 0.90874525]]]\n"
     ]
    }
   ],
   "source": [
    "#Save P(Y|Z,X) as np.array for subsequent calculations\n",
    "\n",
    "P_Y_ZX = np.array([[[1-P0_YZX, 1-P1_YZX, 1-P2_YZX],[1-P3_YZX, 1-P4_YZX, 1-P5_YZX]], \\\n",
    "                   [[P0_YZX, P1_YZX, P2_YZX], [P3_YZX, P4_YZX, P5_YZX]]])\n",
    "print(\"P(Y|Z,X)= \\n\",P_Y_ZX)"
   ]
  },
  {
   "cell_type": "markdown",
   "id": "bf274238",
   "metadata": {},
   "source": [
    "To this end, the Causal Bayesian Network (CBN) and its conditional probability tables (CPTs) [1] as below:\n",
    "\n",
    "![Figure1](Figure1.png)"
   ]
  },
  {
   "cell_type": "markdown",
   "id": "eda4b5c2",
   "metadata": {},
   "source": [
    "\n",
    "### b) Implement and document a Python program that reads the given dataset and automatically computes the intervention’s probability P(Y | do(X)) for all the possible values of X and Y"
   ]
  },
  {
   "cell_type": "markdown",
   "id": "8fba46bc",
   "metadata": {},
   "source": [
    "We can use probabilities from observational data of Z to compute the causal effect [3] of the variable X.\n",
    "So, we can compute the intervention’s probability P(Y | do(X)), by using the adjustment formula [4] for the only parent of X, which is Z :"
   ]
  },
  {
   "cell_type": "markdown",
   "id": "89a0a376",
   "metadata": {},
   "source": [
    "$$\n",
    "\\begin{align*}\n",
    "{\\bf P}(Y | do(X)) &= \\sum_{z \\in Z} {\\bf P}(Y | X, z) P(z) \\\\\n",
    "&= \\sum_{z \\in Z} {\\bf P}(Y | z, X) P(z) \\\\\n",
    "&= {\\bf P}(Y | z, X) P(z) + {\\bf P}(Y | \\neg z, X) P(\\neg z)\n",
    "\\end{align*}\n",
    "$$"
   ]
  },
  {
   "cell_type": "code",
   "execution_count": 7,
   "id": "1f658d11",
   "metadata": {},
   "outputs": [
    {
     "name": "stdout",
     "output_type": "stream",
     "text": [
      "P(Y=0|do(X=0))= 0.2825925925925926\n",
      "P(Y=0|do(X=1))= 0.2998885006095084\n",
      "P(Y=0|do(X=2))= 0.1877873062298918\n",
      "P(Y=1|do(X=0))= 0.7174074074074074\n",
      "P(Y=1|do(X=1))= 0.7001114993904917\n",
      "P(Y=1|do(X=2))= 0.8122126937701082\n"
     ]
    }
   ],
   "source": [
    "#According to the above formula, we can calculate the intervention’s probability P(Y|do(X)) \n",
    "\n",
    "P0_YX = P_Y_ZX[0,1,0] * P_z + P_Y_ZX[0,0,0]*P_z_neg  #P(Y=0 | do(X=0))\n",
    "print(\"P(Y=0|do(X=0))=\",P0_YX)\n",
    "P1_YX = P_Y_ZX[0,1,1] * P_z + P_Y_ZX[0,0,1]*P_z_neg  #P(Y=0 | do(X=1))\n",
    "print(\"P(Y=0|do(X=1))=\",P1_YX)\n",
    "P2_YX = P_Y_ZX[0,1,2] * P_z + P_Y_ZX[0,0,2]*P_z_neg  #P(Y=0 | do(X=2))\n",
    "print(\"P(Y=0|do(X=2))=\",P2_YX)\n",
    "\n",
    "P3_YX = P_Y_ZX[1,1,0] * P_z + P_Y_ZX[1,0,0]*P_z_neg  #P(Y=1 | do(X=0))\n",
    "print(\"P(Y=1|do(X=0))=\",P3_YX)\n",
    "P4_YX = P_Y_ZX[1,1,1] * P_z + P_Y_ZX[1,0,1]*P_z_neg  #P(Y=1 | do(X=1))\n",
    "print(\"P(Y=1|do(X=1))=\",P4_YX)\n",
    "P5_YX = P_Y_ZX[1,1,2] * P_z + P_Y_ZX[1,0,2]*P_z_neg  #P(Y=1 | do(X=2))\n",
    "print(\"P(Y=1|do(X=2))=\",P5_YX)"
   ]
  },
  {
   "cell_type": "markdown",
   "id": "5862271e",
   "metadata": {},
   "source": [
    "Through the above calculation, we obtain the intervention’s probability P(Y | do(X)) for all the possible values of X and Y:\n",
    "\n",
    "$$\n",
    "\\begin{align}\n",
    "P(Y=0|do(X=0))= 0.2825925925925926 \\nonumber\\\\\n",
    "P(Y=0|do(X=1))= 0.2998885006095084 \\nonumber\\\\\n",
    "P(Y=0|do(X=2))= 0.1877873062298918 \\nonumber\\\\\n",
    "P(Y=1|do(X=0))= 0.7174074074074074 \\nonumber\\\\\n",
    "P(Y=1|do(X=1))= 0.7001114993904917 \\nonumber\\\\\n",
    "P(Y=1|do(X=2))= 0.8122126937701082 \\nonumber\\\\\n",
    "\\end{align}\n",
    "$$"
   ]
  },
  {
   "cell_type": "markdown",
   "id": "1ac8c2e5",
   "metadata": {},
   "source": [
    "### c) Implement and document a Python program for the new CBN that computes the average causal effect (ACE) of the genetic profile W on the patient’s survival Y"
   ]
  },
  {
   "cell_type": "markdown",
   "id": "b650e029",
   "metadata": {},
   "source": [
    "According to the problem statements of c), meanwhile assuming W=0 --> ¬gene and W=1 --> gene, we can obtain the new CBN and its conditional probability tables (CPTs) as below:\n",
    "\n",
    "![Figure2](Figure2.png)"
   ]
  },
  {
   "cell_type": "markdown",
   "id": "866db447",
   "metadata": {},
   "source": [
    "From the definition of ACE [4]:\n",
    "\n",
    "$$\n",
    "ACE = P(Y=1 | do(W=1)) - P(Y=1 | do(W=0))\n",
    "$$"
   ]
  },
  {
   "cell_type": "markdown",
   "id": "ac509ac5",
   "metadata": {},
   "source": [
    "Because the variable W has no parents, the graphs pre- and post-intervention are the same. Therefore:\n",
    "\n",
    "$$\n",
    "P(Y=1 | do(W=1)) = P(Y=1 | W=1) \\nonumber\\\\\n",
    "$$\n",
    "$$\n",
    "P(Y=1 | do(W=0)) = P(Y=1 | W=0) \\nonumber\\\\\n",
    "$$\n"
   ]
  },
  {
   "cell_type": "markdown",
   "id": "fb7f0362",
   "metadata": {},
   "source": [
    "The conditional distribution $P(Y|w)= \\alpha ⟨P(y|w),P(¬y|w)⟩$ and $P(Y|¬w)= \\alpha ⟨P(y|¬w),P(¬y|¬w)⟩$, we can exploit the product decomposition [5] of the Bayesian Network to calculate $P(Y|w)$ and $P(Y|¬w)$:\n",
    "\n",
    "$$\n",
    "\\begin{align}\n",
    "{\\bf P}(Y | w) &= \\alpha ~{\\bf P}(Y, w) \\nonumber\\\\\n",
    "&= \\alpha \\sum_{z,x} {\\bf P}(Y, w, z, x) \\nonumber\\\\\n",
    "&= \\alpha \\sum_{z,x} {\\bf P}(Y | z, x) P(x | z) P(z | w) P(w) \\nonumber\\\\\n",
    "&= \\alpha P(w) \\sum_z P(z | w) \\sum_x {\\bf P}(Y | z, x) P(x | z)   \\nonumber\n",
    "\\end{align}\n",
    "$$\n",
    "\n",
    "$$\n",
    "\\begin{align}\n",
    "{\\bf P}(Y | ¬w) &= \\alpha ~{\\bf P}(Y, ¬w) \\nonumber\\\\\n",
    "&= \\alpha \\sum_{z,x} {\\bf P}(Y, ¬w, z, x) \\nonumber\\\\\n",
    "&= \\alpha \\sum_{z,x} {\\bf P}(Y | z, x) P(x | z) P(z | ¬w) P(¬w) \\nonumber\\\\\n",
    "&= \\alpha P(¬w) \\sum_z P(z | ¬w) \\sum_x {\\bf P}(Y | z, x) P(x | z)   \\nonumber\n",
    "\\end{align}\n",
    "$$\n",
    "\n",
    "In addition, we know, for limited dataset，the advantage of the Bayesian Network's product decomposition can improve ​the accuracy of the estimation."
   ]
  },
  {
   "cell_type": "markdown",
   "id": "b9192ba8",
   "metadata": {},
   "source": [
    "At first, we can obtain the $P(w) = 0.1$, $P(¬w) = 1-P(w) = 0.9$, and $P(z|w) = 0.6$, $P(z|¬w) = 0.8$ from problem statement of c).\n",
    "\n",
    "The distribution ${\\bf P}(W)$:\n",
    "\n",
    "$$\n",
    "\\begin{align*}\n",
    "{\\bf P}(W) =\n",
    "[P(W=0),P(W=1)],\\nonumber\\\\\n",
    "\\end{align*}\n",
    "$$\n",
    "\n",
    "\n",
    "The distribution ${\\bf P}(Z|W)$:\n",
    "\n",
    "$$\n",
    "\\begin{align*}\n",
    "{\\bf P}(Z|W) =\n",
    "[\n",
    "[P(Z=0|W=0),P(Z=0|W=1)],\\nonumber\\\\\n",
    "[P(Z=1|W=0),P(Z=1|W=1)]\n",
    "]\n",
    "\\end{align*}\n",
    "$$"
   ]
  },
  {
   "cell_type": "code",
   "execution_count": 8,
   "id": "d088936c",
   "metadata": {
    "scrolled": true
   },
   "outputs": [
    {
     "name": "stdout",
     "output_type": "stream",
     "text": [
      "P_W = [0.9 0.1]\n"
     ]
    }
   ],
   "source": [
    "#Save P(W) as np.array for subsequent calculations\n",
    "\n",
    "P_w = 0.1\n",
    "#print ('P(w) = ',P_w)\n",
    "P_w_neg = 1 - P_w\n",
    "#print ('P(¬w) = ',P_w_neg)\n",
    "P_W = np.array([P_w_neg, P_w])\n",
    "print('P_W =', P_W)"
   ]
  },
  {
   "cell_type": "code",
   "execution_count": 9,
   "id": "7f3d97d0",
   "metadata": {},
   "outputs": [
    {
     "name": "stdout",
     "output_type": "stream",
     "text": [
      "P(Z|W)= \n",
      " [[0.2 0.4]\n",
      " [0.8 0.6]]\n"
     ]
    }
   ],
   "source": [
    "#Save P(Z|W) as np.array for subsequent calculations\n",
    "\n",
    "P_z_w = 0.6\n",
    "P_z_w_neg = 0.8\n",
    "P_z_neg_w = 1- P_z_w \n",
    "P_z_neg_w_neg = 1- P_z_w_neg\n",
    "P_Z_W = np.array([[P_z_neg_w_neg, P_z_neg_w],[P_z_w_neg,P_z_w]])\n",
    "print(\"P(Z|W)= \\n\",P_Z_W)"
   ]
  },
  {
   "cell_type": "markdown",
   "id": "42e5e4a9",
   "metadata": {},
   "source": [
    "Now, we can calculate $P(y|w)$ and $P(¬y|w)$:\n",
    "$$\n",
    "\\begin{align}\n",
    "P(y | w) &=  P(w) \\sum_z P(z | w) \\sum_x  P(y | z, x) P(x | z) \\nonumber\n",
    "\\end{align}\n",
    "$$\n",
    "\n",
    "$$\n",
    "\\begin{align}\n",
    "P(¬y | w) &=  P(w) \\sum_z P(z | w) \\sum_x  P(¬y | z, x) P(x | z) \\nonumber\n",
    "\\end{align}\n",
    "$$"
   ]
  },
  {
   "cell_type": "code",
   "execution_count": 10,
   "id": "5ef8d076",
   "metadata": {},
   "outputs": [
    {
     "name": "stdout",
     "output_type": "stream",
     "text": [
      "P(y|w)= 0.07105042016806723\n",
      "P(¬y|w)= 0.028949579831932776\n",
      "α= 10.0\n",
      "P(Y|w)= [0.7105042016806723, 0.28949579831932776]\n"
     ]
    }
   ],
   "source": [
    "#According to the above formulas, we can calculate P(y|w) and P(¬y|w) :\n",
    "\n",
    "P_y_w = P_W[1] * (P_Z_W[1,1]*(P_X_Z[0,1]*P_Y_ZX[1,1,0] + P_X_Z[1,1]*P_Y_ZX[1,1,1]+P_X_Z[2,1]*P_Y_ZX[1,1,2]) + \n",
    "                  P_Z_W[0,1]*(P_X_Z[0,0]*P_Y_ZX[1,0,0] + P_X_Z[1,0]*P_Y_ZX[1,0,1]+P_X_Z[2,0]*P_Y_ZX[1,0,2]))\n",
    "print(\"P(y|w)=\", P_y_w)\n",
    "\n",
    "P_y_neg_w = P_W[1] * (P_Z_W[1,1]*(P_X_Z[0,1]*P_Y_ZX[0,1,0] + P_X_Z[1,1]*P_Y_ZX[0,1,1]+P_X_Z[2,1]*P_Y_ZX[0,1,2]) + \n",
    "                      P_Z_W[0,1]*(P_X_Z[0,0]*P_Y_ZX[0,0,0] + P_X_Z[1,0]*P_Y_ZX[0,0,1]+P_X_Z[2,0]*P_Y_ZX[0,0,2]))\n",
    "print(\"P(¬y|w)=\", P_y_neg_w)\n",
    "\n",
    "alpha = 1 / (P_y_w + P_y_neg_w)\n",
    "print(\"α=\",alpha)\n",
    "\n",
    "P_Y_w = [alpha * P_y_w, alpha * P_y_neg_w]\n",
    "print(\"P(Y|w)=\",P_Y_w)"
   ]
  },
  {
   "cell_type": "markdown",
   "id": "9ddd4c85",
   "metadata": {},
   "source": [
    "Through the above calculation, we get $P(Y=1 | W=1) = 0.07105042016806723$\n",
    "\n"
   ]
  },
  {
   "cell_type": "markdown",
   "id": "7d88aca7",
   "metadata": {},
   "source": [
    "Similarly, we can calculate $P(y|¬w)$ and $P(¬y|¬w)$:\n",
    "$$\n",
    "\\begin{align}\n",
    "P(y | ¬w) &=  P(¬w) \\sum_z P(z | ¬w) \\sum_x  P(y | z, x) P(x | z) \\nonumber\n",
    "\\end{align}\n",
    "$$\n",
    "\n",
    "$$\n",
    "\\begin{align}\n",
    "P(¬y | ¬w) &=  P(¬w) \\sum_z P(z | ¬w) \\sum_x  P(¬y | z, x) P(x | z) \\nonumber\n",
    "\\end{align}\n",
    "$$"
   ]
  },
  {
   "cell_type": "code",
   "execution_count": 11,
   "id": "55d7b146",
   "metadata": {},
   "outputs": [
    {
     "name": "stdout",
     "output_type": "stream",
     "text": [
      "P(y|¬w)= 0.6893697478991596\n",
      "P(¬y|¬w)= 0.21063025210084035\n",
      "α= 1.1111111111111112\n",
      "P(Y|¬w)= [0.7659663865546218, 0.23403361344537818]\n"
     ]
    }
   ],
   "source": [
    "#According to the above formulas, we can calculate P(y|¬w) and P(¬y|¬w)\n",
    "\n",
    "P_y_w_neg = P_W[0] * (P_Z_W[1,0]*(P_X_Z[0,1]*P_Y_ZX[1,1,0] + P_X_Z[1,1]*P_Y_ZX[1,1,1]+P_X_Z[2,1]*P_Y_ZX[1,1,2]) + \n",
    "                      P_Z_W[0,0]*(P_X_Z[0,0]*P_Y_ZX[1,0,0] + P_X_Z[1,0]*P_Y_ZX[1,0,1]+P_X_Z[2,0]*P_Y_ZX[1,0,2]))\n",
    "print(\"P(y|¬w)=\", P_y_w_neg)\n",
    "\n",
    "P_y_neg_w_neg = P_W[0] * (P_Z_W[1,0]*(P_X_Z[0,1]*P_Y_ZX[0,1,0] + P_X_Z[1,1]*P_Y_ZX[0,1,1]+P_X_Z[2,1]*P_Y_ZX[0,1,2]) + \n",
    "                          P_Z_W[0,0]*(P_X_Z[0,0]*P_Y_ZX[0,0,0] + P_X_Z[1,0]*P_Y_ZX[0,0,1]+P_X_Z[2,0]*P_Y_ZX[0,0,2]))\n",
    "print(\"P(¬y|¬w)=\", P_y_neg_w_neg)\n",
    "\n",
    "alpha = 1 / (P_y_w_neg + P_y_neg_w_neg)\n",
    "print(\"α=\",alpha)\n",
    "\n",
    "P_Y_w_neg = [alpha * P_y_w_neg, alpha * P_y_neg_w_neg]\n",
    "print(\"P(Y|¬w)=\",P_Y_w_neg)\n"
   ]
  },
  {
   "cell_type": "markdown",
   "id": "edd60f9a",
   "metadata": {},
   "source": [
    "Through the above calculation, we get $P(Y=1 | W=0) = 0.6893697478991596$\n"
   ]
  },
  {
   "cell_type": "markdown",
   "id": "0203804a",
   "metadata": {},
   "source": [
    "Finally，we can calculate the average causal effect (ACE) of the genetic profile W on the patient’s survival Y :  \n",
    "\n",
    "$$\n",
    "\\begin{align}\n",
    "ACE &= P(Y=1 | do(W=1)) - P(Y=1 | do(W=0)) \\nonumber\\\\\n",
    "&= P(Y=1 | W=1) - P(Y=1 | W=0) \\nonumber\\\\\n",
    "&= -0.6183193277310923\n",
    "\\end{align}\n",
    "$$     \n"
   ]
  },
  {
   "cell_type": "code",
   "execution_count": 12,
   "id": "278f922f",
   "metadata": {},
   "outputs": [
    {
     "name": "stdout",
     "output_type": "stream",
     "text": [
      "ACE_Y_W = -0.6183193277310923\n"
     ]
    }
   ],
   "source": [
    "#Calculate ACE\n",
    "\n",
    "ACE_Y_W = P_y_w - P_y_w_neg\n",
    "print(\"ACE_Y_W =\", ACE_Y_W)"
   ]
  },
  {
   "cell_type": "markdown",
   "id": "979feb52",
   "metadata": {},
   "source": [
    "According to the calculation results of ACE, we can conclude that the genetic profile W has a negative (ACE < 0)  effect on the patient's survival Y."
   ]
  },
  {
   "cell_type": "markdown",
   "id": "7e4254d2",
   "metadata": {},
   "source": [
    "### REFERENCES\n",
    "\n",
    "[1] Russell, S., Norvig, P., Davis E., and ProQuest. (2016). $\\textit {Artificial intelligence: a modern approach}$, 3rd edition. Boston, USA: Pearson Education, pp.510-513. \n",
    "\n",
    "[2] Russell, S., Norvig, P., Davis E., and ProQuest. (2016). $\\textit {Artificial intelligence: a modern approach}$, 3rd edition. Boston, USA: Pearson Education, pp.495-499. \n",
    "\n",
    "[3] Pearl, J., Glymour, M. and Jewell, N.P. (2016). $\\textit {Causal inference in statistics: A primer}$. West Sussex, UK: John Wiley & Sons, pp.58-61.\n",
    "\n",
    "[4] Pearl, J., Glymour, M. and Jewell, N.P. (2016). $\\textit {Causal inference in statistics: A primer}$. West Sussex, UK: John Wiley & Sons, pp.55-58. \n",
    "\n",
    "[5] Pearl, J., Glymour, M. and Jewell, N.P. (2016). $\\textit {Causal inference in statistics: A primer}$. West Sussex, UK: John Wiley & Sons, pp.29-31.     "
   ]
  }
 ],
 "metadata": {
  "kernelspec": {
   "display_name": "Python 3",
   "language": "python",
   "name": "python3"
  },
  "language_info": {
   "codemirror_mode": {
    "name": "ipython",
    "version": 3
   },
   "file_extension": ".py",
   "mimetype": "text/x-python",
   "name": "python",
   "nbconvert_exporter": "python",
   "pygments_lexer": "ipython3",
   "version": "3.8.8"
  }
 },
 "nbformat": 4,
 "nbformat_minor": 5
}
